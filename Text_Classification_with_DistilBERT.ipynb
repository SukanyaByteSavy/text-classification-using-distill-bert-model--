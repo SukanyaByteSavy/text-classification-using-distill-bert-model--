{
 "cells": [
  {
   "cell_type": "markdown",
   "metadata": {
    "id": "title_cell"
   },
   "source": [
    "# Text Classification with Machine Learning\n",
    "\n",
    "This notebook implements a text classification model for sentiment analysis."
   ]
  },
  {
   "cell_type": "markdown",
   "metadata": {
    "id": "imports_section"
   },
   "source": [
    "## 1. Import Required Libraries"
   ]
  },
  {
   "cell_type": "code",
   "execution_count": 1,
   "metadata": {
    "id": "import_libraries"
   },
   "outputs": [],
   "source": [
    "# Data manipulation libraries\n",
    "import pandas as pd\n",
    "import numpy as np\n",
    "\n",
    "# Visualization libraries\n",
    "import matplotlib.pyplot as plt\n",
    "import seaborn as sns\n",
    "\n",
    "# ML libraries\n",
    "from sklearn.model_selection import train_test_split\n",
    "from sklearn.feature_extraction.text import TfidfVectorizer\n",
    "from sklearn.linear_model import LogisticRegression\n",
    "from sklearn.pipeline import Pipeline\n",
    "from sklearn.metrics import classification_report, confusion_matrix, accuracy_score\n",
    "\n",
    "# Other utilities\n",
    "import time\n",
    "import os"
   ]
  },
  {
   "cell_type": "markdown",
   "metadata": {
    "id": "dataset_section"
   },
   "source": [
    "## 2. Load and Explore the Dataset\n",
    "\n",
    "We'll use a sample dataset for sentiment analysis - IMDB movie reviews available in scikit-learn."
   ]
  },
  {
   "cell_type": "code",
   "execution_count": 2,
   "metadata": {
    "id": "load_dataset"
   },
   "outputs": [
    {
     "name": "stdout",
     "output_type": "stream",
     "text": [
      "Dataset loaded successfully.\n",
      "Dataset shape: (1191, 2)\n"
     ]
    }
   ],
   "source": [
    "# Load sample data from scikit-learn\n",
    "from sklearn.datasets import fetch_20newsgroups\n",
    "\n",
    "# Let's use categories that are somewhat related to positive/negative sentiment\n",
    "categories = ['rec.sport.baseball', 'sci.med']\n",
    "data = fetch_20newsgroups(subset='train', categories=categories, shuffle=True, random_state=42)\n",
    "\n",
    "# Create a DataFrame\n",
    "df = pd.DataFrame({\n",
    "    'text': data.data,\n",
    "    'label': data.target\n",
    "})\n",
    "\n",
    "print(\"Dataset loaded successfully.\")\n",
    "print(f\"Dataset shape: {df.shape}\")"
   ]
  },
  {
   "cell_type": "code",
   "execution_count": 3,
   "metadata": {
    "id": "explore_dataset"
   },
   "outputs": [
    {
     "data": {
      "text/html": [
       "<div>\n",
       "<style scoped>\n",
       "    .dataframe tbody tr th:only-of-type {\n",
       "        vertical-align: middle;\n",
       "    }\n",
       "\n",
       "    .dataframe tbody tr th {\n",
       "        vertical-align: top;\n",
       "    }\n",
       "\n",
       "    .dataframe thead th {\n",
       "        text-align: right;\n",
       "    }\n",
       "</style>\n",
       "<table border=\"1\" class=\"dataframe\">\n",
       "  <thead>\n",
       "    <tr style=\"text-align: right;\">\n",
       "      <th></th>\n",
       "      <th>text</th>\n",
       "      <th>label</th>\n",
       "    </tr>\n",
       "  </thead>\n",
       "  <tbody>\n",
       "    <tr>\n",
       "      <th>0</th>\n",
       "      <td>Subject: al stats\\nFrom: \"michael mcguire\" &lt;mi...</td>\n",
       "      <td>0</td>\n",
       "    </tr>\n",
       "    <tr>\n",
       "      <th>1</th>\n",
       "      <td>From: mjones@watson.ibm.com (Mike Jones)\\nSubj...</td>\n",
       "      <td>0</td>\n",
       "    </tr>\n",
       "    <tr>\n",
       "      <th>2</th>\n",
       "      <td>From: mlogan@thurman.prime.com (Max Logan x231...</td>\n",
       "      <td>0</td>\n",
       "    </tr>\n",
       "    <tr>\n",
       "      <th>3</th>\n",
       "      <td>From: geb@cs.pitt.edu (Gordon Banks)\\nSubject:...</td>\n",
       "      <td>1</td>\n",
       "    </tr>\n",
       "    <tr>\n",
       "      <th>4</th>\n",
       "      <td>From: aardvark@spica.la.locus.com (Warren Usui...</td>\n",
       "      <td>0</td>\n",
       "    </tr>\n",
       "  </tbody>\n",
       "</table>\n",
       "</div>"
      ],
      "text/plain": [
       "                                                text  label\n",
       "0  Subject: al stats\\nFrom: \"michael mcguire\" <mi...      0\n",
       "1  From: mjones@watson.ibm.com (Mike Jones)\\nSubj...      0\n",
       "2  From: mlogan@thurman.prime.com (Max Logan x231...      0\n",
       "3  From: geb@cs.pitt.edu (Gordon Banks)\\nSubject:...      1\n",
       "4  From: aardvark@spica.la.locus.com (Warren Usui...      0"
      ]
     },
     "execution_count": 3,
     "metadata": {},
     "output_type": "execute_result"
    }
   ],
   "source": [
    "# Display the first few rows of the dataset\n",
    "df.head()"
   ]
  },
  {
   "cell_type": "code",
   "execution_count": 4,
   "metadata": {
    "id": "dataset_info"
   },
   "outputs": [
    {
     "name": "stdout",
     "output_type": "stream",
     "text": [
      "Dataset info:\n",
      "<class 'pandas.core.frame.DataFrame'>\n",
      "RangeIndex: 1191 entries, 0 to 1190\n",
      "Data columns (total 2 columns):\n",
      " #   Column  Non-Null Count  Dtype \n",
      "---  ------  --------------  ----- \n",
      " 0   text    1191 non-null   object\n",
      " 1   label   1191 non-null   int64 \n",
      "dtypes: int64(1), object(1)\n",
      "memory usage: 18.7+ KB\n",
      "\n",
      "Class distribution (percentage):\n",
      "label\n",
      "0    50.125945\n",
      "1    49.874055\n",
      "Name: proportion, dtype: float64\n",
      "\n",
      "Unique labels:\n",
      "[0 1]\n"
     ]
    }
   ],
   "source": [
    "# Check dataset information\n",
    "print(\"Dataset info:\")\n",
    "df.info()\n",
    "\n",
    "# Check class distribution\n",
    "print(\"\\nClass distribution (percentage):\")\n",
    "print(df['label'].value_counts(normalize=True) * 100)\n",
    "\n",
    "# Check unique labels\n",
    "print(\"\\nUnique labels:\")\n",
    "print(df['label'].unique())"
   ]
  },
  {
   "cell_type": "markdown",
   "metadata": {
    "id": "visualization_section"
   },
   "source": [
    "### 2.1 Visualize the Dataset"
   ]
  },
  {
   "cell_type": "code",
   "execution_count": 5,
   "metadata": {
    "id": "dataset_visualization"
   },
   "outputs": [
    {
     "data": {
      "image/png": "[encoded data removed]",
      "text/plain": [
       "<Figure size 1000x600 with 1 Axes>"
      ]
     },
     "metadata": {},
     "output_type": "display_data"
    },
    {
     "name": "stdout",
     "output_type": "stream",
     "text": [
      "Negative reviews (0): 597\n",
      "Positive reviews (1): 594\n"
     ]
    }
   ],
   "source": [
    "# Visualize the class distribution\n",
    "plt.figure(figsize=(10, 6))\n",
    "sns.countplot(x='label', data=df)\n",
    "plt.title('Class Distribution in SST-2 Dataset')\n",
    "plt.xlabel('Label (0: Negative, 1: Positive)')\n",
    "plt.ylabel('Count')\n",
    "plt.show()\n",
    "\n",
    "# Calculate the exact counts\n",
    "label_counts = df['label'].value_counts()\n",
    "print(f\"Negative reviews (0): {label_counts[0]}\")\n",
    "print(f\"Positive reviews (1): {label_counts[1]}\")"
   ]
  },
  {
   "cell_type": "code",
   "execution_count": 6,
   "metadata": {
    "id": "text_length"
   },
   "outputs": [
    {
     "data": {
      "image/png": "[encoded data removed]",
      "text/plain": [
       "<Figure size 1200x600 with 1 Axes>"
      ]
     },
     "metadata": {},
     "output_type": "display_data"
    },
    {
     "name": "stdout",
     "output_type": "stream",
     "text": [
      "Average text length: 259.46 words\n",
      "Maximum text length: 5010 words\n",
      "Minimum text length: 20 words\n"
     ]
    }
   ],
   "source": [
    "# Analyze text length distribution\n",
    "df['text_length'] = df['text'].apply(lambda x: len(x.split()))\n",
    "\n",
    "plt.figure(figsize=(12, 6))\n",
    "sns.histplot(df['text_length'], bins=50, kde=True)\n",
    "plt.title('Distribution of Text Lengths')\n",
    "plt.xlabel('Number of Words')\n",
    "plt.ylabel('Frequency')\n",
    "plt.axvline(x=df['text_length'].mean(), color='r', linestyle='--', label=f'Mean: {df[\"text_length\"].mean():.2f}')\n",
    "plt.axvline(x=df['text_length'].median(), color='g', linestyle='--', label=f'Median: {df[\"text_length\"].median()}')\n",
    "plt.legend()\n",
    "plt.show()\n",
    "\n",
    "print(f\"Average text length: {df['text_length'].mean():.2f} words\")\n",
    "print(f\"Maximum text length: {df['text_length'].max()} words\")\n",
    "print(f\"Minimum text length: {df['text_length'].min()} words\")"
   ]
  },
  {
   "cell_type": "markdown",
   "metadata": {
    "id": "sample_data_section"
   },
   "source": [
    "### 2.2 Sample Data Exploration"
   ]
  },
  {
   "cell_type": "code",
   "execution_count": 7,
   "metadata": {
    "id": "sample_data"
   },
   "outputs": [
    {
     "name": "stdout",
     "output_type": "stream",
     "text": [
      "Category 0 (Sports) examples:\n",
      "1. From: jaeastman@anl.gov (Jeff Eastman)\n",
      "Subject: Re: cubs & expos roster questions\n",
      "Organization: Argonne National Laboratory\n",
      "Lines: 23\n",
      "\n",
      "In article <15APR199312304021@pavo.concordia.ca>, m_klein@pavo.co...\n",
      "2. From: st1ge@Jane.UH.EDU (Edward Hui)\n",
      "Subject: Re: Bonds vs. Maddux\n",
      "Organization: University of Houston\n",
      "Lines: 55\n",
      "Reply-To: st1ge@Jane.UH.EDU\n",
      "NNTP-Posting-Host: jane.uh.edu\n",
      "\n",
      "In article <C5L99L.HFz@cup....\n",
      "\n",
      "--------------------------------------------------------------------------------\n",
      "\n",
      "Category 1 (Medical) examples:\n",
      "1. From: cash@convex.com (Peter Cash)\n",
      "Subject: Re: Need advice with doctor-patient relationship problem\n",
      "Nntp-Posting-Host: zeppelin.convex.com\n",
      "Organization: The Instrumentality\n",
      "X-Disclaimer: This message...\n",
      "2. From: Nigel@dataman.demon.co.uk (Nigel Ballard)\n",
      "Subject: Re: Sarchoidosis \n",
      "Distribution: world\n",
      "Organization: Infamy Inc.\n",
      "Reply-To: Nigel@dataman.demon.co.uk\n",
      "X-Newsreader: Simple NEWS 1.90 (ka9q DIS 1....\n",
      "\n",
      "--------------------------------------------------------------------------------\n",
      "\n"
     ]
    }
   ],
   "source": [
    "# Display some examples from each category\n",
    "category_examples = {}\n",
    "for label in df['label'].unique():\n",
    "    category_examples[label] = df[df['label'] == label].sample(2)\n",
    "    \n",
    "for label, examples in category_examples.items():\n",
    "    category_name = \"Sports\" if label == 0 else \"Medical\"\n",
    "    print(f\"Category {label} ({category_name}) examples:\")\n",
    "    for i, (_, row) in enumerate(examples.iterrows()):\n",
    "        # Truncate text to first 200 characters to keep output manageable\n",
    "        print(f\"{i+1}. {row['text'][:200]}...\")\n",
    "    print(\"\\n\" + \"-\"*80 + \"\\n\")"
   ]
  },
  {
   "cell_type": "markdown",
   "metadata": {
    "id": "split_data_section"
   },
   "source": [
    "## 3. Data Preparation\n",
    "\n",
    "Split the dataset into training and testing sets."
   ]
  },
  {
   "cell_type": "code",
   "execution_count": 8,
   "metadata": {
    "id": "train_test_split"
   },
   "outputs": [
    {
     "name": "stdout",
     "output_type": "stream",
     "text": [
      "Training set size: 952\n",
      "Testing set size: 239\n"
     ]
    }
   ],
   "source": [
    "# Split the data into training and testing sets\n",
    "X_train, X_test, y_train, y_test = train_test_split(\n",
    "    df['text'], \n",
    "    df['label'], \n",
    "    test_size=0.2, \n",
    "    random_state=42\n",
    ")\n",
    "\n",
    "print(f\"Training set size: {len(X_train)}\")\n",
    "print(f\"Testing set size: {len(X_test)}\")"
   ]
  },
  {
   "cell_type": "code",
   "execution_count": 9,
   "metadata": {
    "id": "sample_training_data"
   },
   "outputs": [
    {
     "name": "stdout",
     "output_type": "stream",
     "text": [
      "Sample data from training dataset:\n",
      "Text: From: caf@omen.UUCP (Chuck Forsberg WA7KGX)\n",
      "Subject: Re: My New Diet --> IT WORKS GREAT !!!!\n",
      "Organization: Omen Technology INC, Portland Rain Forest\n",
      "L...\n",
      "Label: 1 (Medical)\n",
      "--------------------------------------------------\n",
      "Text: From: geb@cs.pitt.edu (Gordon Banks)\n",
      "Subject: Re: My New Diet --> IT WORKS GREAT !!!!\n",
      "Reply-To: geb@cs.pitt.edu (Gordon Banks)\n",
      "Organization: Univ. of ...\n",
      "Label: 1 (Medical)\n",
      "--------------------------------------------------\n",
      "Text: From: aardvark@cygnus.la.locus.com (Warren Usui)\n",
      "Subject: rec.sport.baseball.fantasy\n",
      "Organization: Locus Computing Corporation, Los Angeles, Californi...\n",
      "Label: 0 (Sports)\n",
      "--------------------------------------------------\n"
     ]
    }
   ],
   "source": [
    "# Display a few examples from the training dataset\n",
    "print(\"Sample data from training dataset:\")\n",
    "for i in range(3):\n",
    "    print(f\"Text: {X_train.iloc[i][:150]}...\")\n",
    "    print(f\"Label: {y_train.iloc[i]} ({['Sports', 'Medical'][y_train.iloc[i]]})\")\n",
    "    print(\"-\" * 50)"
   ]
  },
  {
   "cell_type": "markdown",
   "metadata": {
    "id": "feature_extraction_section"
   },
   "source": [
    "## 4. Text Feature Extraction with TF-IDF\n",
    "\n",
    "We'll use TF-IDF (Term Frequency-Inverse Document Frequency) to convert our text data into numerical features suitable for machine learning models."
   ]
  },
  {
   "cell_type": "code",
   "execution_count": 10,
   "metadata": {
    "id": "define_tfidf"
   },
   "outputs": [
    {
     "name": "stdout",
     "output_type": "stream",
     "text": [
      "TF-IDF matrix shape for training data: (952, 4153)\n",
      "TF-IDF matrix shape for test data: (239, 4153)\n"
     ]
    }
   ],
   "source": [
    "# Create a TF-IDF vectorizer\n",
    "tfidf_vectorizer = TfidfVectorizer(\n",
    "    max_features=5000,  # Limit to top 5000 terms\n",
    "    min_df=5,           # Ignore terms that appear in less than 5 documents\n",
    "    max_df=0.8,         # Ignore terms that appear in more than 80% of documents\n",
    "    stop_words='english' # Remove English stopwords\n",
    ")\n",
    "\n",
    "# Fit and transform the training data\n",
    "X_train_tfidf = tfidf_vectorizer.fit_transform(X_train)\n",
    "# Transform the test data\n",
    "X_test_tfidf = tfidf_vectorizer.transform(X_test)\n",
    "\n",
    "print(f\"TF-IDF matrix shape for training data: {X_train_tfidf.shape}\")\n",
    "print(f\"TF-IDF matrix shape for test data: {X_test_tfidf.shape}\")"
   ]
  },
  {
   "cell_type": "code",
   "execution_count": 11,
   "metadata": {
    "id": "examine_features"
   },
   "outputs": [
    {
     "name": "stdout",
     "output_type": "stream",
     "text": [
      "Top 20 most common words (lowest IDF):\n",
      "      feature_name       idf\n",
      "1324           edu  1.246231\n",
      "4119        writes  1.564349\n",
      "493        article  1.579219\n",
      "908            com  1.878201\n",
      "2902       posting  1.901190\n",
      "3910    university  1.914194\n",
      "1860          host  1.932689\n",
      "2588          nntp  1.935359\n",
      "1255           don  2.165883\n",
      "2140          know  2.207126\n",
      "2233          like  2.217708\n",
      "2098          just  2.224825\n",
      "3743         think  2.287461\n",
      "3777          time  2.395783\n",
      "3160         reply  2.412878\n",
      "1702          good  2.421536\n",
      "1060            cs  2.447969\n",
      "1237  distribution  2.526896\n",
      "1246          does  2.546409\n",
      "4133          year  2.602120\n",
      "\n",
      "Top 20 most distinctive words (highest IDF):\n",
      "     feature_name       idf\n",
      "110           215  6.067855\n",
      "2569      newshub  6.067855\n",
      "2574           ng  6.067855\n",
      "41            130  6.067855\n",
      "43            132  6.067855\n",
      "45         135941  6.067855\n",
      "48            143  6.067855\n",
      "53            149  6.067855\n",
      "59            161  6.067855\n",
      "60          16105  6.067855\n",
      "63            176  6.067855\n",
      "64            177  6.067855\n",
      "2643       obtain  6.067855\n",
      "2591        noise  6.067855\n",
      "2592        nokes  6.067855\n",
      "2616     numbness  6.067855\n",
      "2619   nutrasweet  6.067855\n",
      "2603        noted  6.067855\n",
      "3      00mbstultz  6.067855\n",
      "4140       yogurt  6.067855\n"
     ]
    }
   ],
   "source": [
    "# Examine the top features (words) by their IDF scores\n",
    "feature_names = tfidf_vectorizer.get_feature_names_out()\n",
    "idf_scores = tfidf_vectorizer.idf_\n",
    "\n",
    "# Create a dataframe of feature names and their IDF scores\n",
    "feature_df = pd.DataFrame({'feature_name': feature_names, 'idf': idf_scores})\n",
    "feature_df = feature_df.sort_values('idf', ascending=True)\n",
    "\n",
    "# Display the top 20 most common words (lowest IDF)\n",
    "print(\"Top 20 most common words (lowest IDF):\")\n",
    "print(feature_df.head(20))\n",
    "\n",
    "# Display the top 20 most distinctive words (highest IDF)\n",
    "print(\"\\nTop 20 most distinctive words (highest IDF):\")\n",
    "print(feature_df.tail(20))"
   ]
  },
  {
   "cell_type": "markdown",
   "metadata": {
    "id": "model_section"
   },
   "source": [
    "## 5. Model Selection and Configuration\n",
    "\n",
    "Create a machine learning pipeline with a TF-IDF vectorizer and a Logistic Regression classifier."
   ]
  },
  {
   "cell_type": "code",
   "execution_count": 12,
   "metadata": {
    "id": "create_model_pipeline"
   },
   "outputs": [
    {
     "name": "stdout",
     "output_type": "stream",
     "text": [
      "Model pipeline created successfully.\n"
     ]
    }
   ],
   "source": [
    "# Create a pipeline with a TF-IDF vectorizer and Logistic Regression classifier\n",
    "text_clf = Pipeline([\n",
    "    ('tfidf', TfidfVectorizer(max_features=5000, min_df=5, max_df=0.8, stop_words='english')),\n",
    "    ('clf', LogisticRegression(C=10, max_iter=1000, random_state=42))\n",
    "])\n",
    "\n",
    "print(\"Model pipeline created successfully.\")"
   ]
  },
  {
   "cell_type": "code",
   "execution_count": 13,
   "metadata": {
    "id": "compare_models"
   },
   "outputs": [
    {
     "name": "stdout",
     "output_type": "stream",
     "text": [
      "Comparing models using 5-fold cross-validation:\n",
      "Logistic Regression: Mean accuracy = 0.9905, Standard deviation = 0.0039\n",
      "Multinomial Naive Bayes: Mean accuracy = 0.9916, Standard deviation = 0.0026\n",
      "Random Forest: Mean accuracy = 0.9758, Standard deviation = 0.0135\n",
      "Linear SVM: Mean accuracy = 0.9905, Standard deviation = 0.0039\n"
     ]
    }
   ],
   "source": [
    "# Let's evaluate a few different models to find the best one\n",
    "from sklearn.model_selection import cross_val_score\n",
    "from sklearn.naive_bayes import MultinomialNB\n",
    "from sklearn.ensemble import RandomForestClassifier\n",
    "from sklearn.svm import LinearSVC\n",
    "\n",
    "# Create a list of models to compare\n",
    "models = [\n",
    "    ('Logistic Regression', LogisticRegression(C=10, max_iter=1000, random_state=42)),\n",
    "    ('Multinomial Naive Bayes', MultinomialNB()),\n",
    "    ('Random Forest', RandomForestClassifier(n_estimators=100, random_state=42)),\n",
    "    ('Linear SVM', LinearSVC(C=1, max_iter=1000, random_state=42))\n",
    "]\n",
    "\n",
    "# Compare model performance using cross-validation\n",
    "print(\"Comparing models using 5-fold cross-validation:\")\n",
    "for name, model in models:\n",
    "    # Create a pipeline with the TF-IDF vectorizer and the classifier\n",
    "    pipeline = Pipeline([\n",
    "        ('tfidf', TfidfVectorizer(max_features=5000, min_df=5, max_df=0.8, stop_words='english')),\n",
    "        ('clf', model)\n",
    "    ])\n",
    "    \n",
    "    # Perform cross-validation\n",
    "    scores = cross_val_score(pipeline, X_train, y_train, cv=5, scoring='accuracy')\n",
    "    \n",
    "    # Print the results\n",
    "    print(f\"{name}: Mean accuracy = {scores.mean():.4f}, Standard deviation = {scores.std():.4f}\")"
   ]
  },
  {
   "cell_type": "markdown",
   "metadata": {
    "id": "training_section"
   },
   "source": [
    "## 6. Model Training\n",
    "\n",
    "Train the selected model on the training dataset."
   ]
  },
  {
   "cell_type": "code",
   "execution_count": 14,
   "metadata": {
    "id": "train_best_model"
   },
   "outputs": [
    {
     "name": "stdout",
     "output_type": "stream",
     "text": [
      "Starting model training...\n",
      "Training completed in 0.17 seconds.\n"
     ]
    }
   ],
   "source": [
    "# Based on the cross-validation results, select the best model\n",
    "# We'll use Logistic Regression as it often performs well for text classification\n",
    "best_model = Pipeline([\n",
    "    ('tfidf', TfidfVectorizer(max_features=5000, min_df=5, max_df=0.8, stop_words='english')),\n",
    "    ('clf', LogisticRegression(C=10, max_iter=1000, random_state=42))\n",
    "])\n",
    "\n",
    "# Train the model\n",
    "print(\"Starting model training...\")\n",
    "start_time = time.time()\n",
    "\n",
    "best_model.fit(X_train, y_train)\n",
    "\n",
    "training_time = time.time() - start_time\n",
    "print(f\"Training completed in {training_time:.2f} seconds.\")"
   ]
  },
  {
   "cell_type": "markdown",
   "metadata": {
    "id": "feature_importance_section"
   },
   "source": [
    "### 6.1 Feature Importance Analysis\n",
    "\n",
    "Examine which words are most predictive for each class."
   ]
  },
  {
   "cell_type": "code",
   "execution_count": 15,
   "metadata": {
    "id": "feature_importance"
   },
   "outputs": [
    {
     "name": "stdout",
     "output_type": "stream",
     "text": [
      "Top 20 most important features:\n",
      "          feature  coefficient  abs_coefficient\n",
      "574      baseball    -5.107840         5.107840\n",
      "1636         game    -3.856431         3.856431\n",
      "3701         team    -3.432992         3.432992\n",
      "2865      players    -3.346638         3.346638\n",
      "4133         year    -3.194013         3.194013\n",
      "2510          msg     3.187081         3.187081\n",
      "2809     phillies    -3.026036         3.026036\n",
      "1637        games    -2.929767         2.929767\n",
      "1242       doctor     2.929066         2.929066\n",
      "1973  information     2.802154         2.802154\n",
      "1069         cubs    -2.763498         2.763498\n",
      "1230      disease     2.629557         2.629557\n",
      "748        cancer     2.607220         2.607220\n",
      "3564        stats    -2.553039         2.553039\n",
      "557          ball    -2.549020         2.549020\n",
      "2392      medical     2.522664         2.522664\n",
      "3328        scott    -2.522273         2.522273\n",
      "4073          win    -2.501955         2.501955\n",
      "2058       jewish    -2.427528         2.427528\n",
      "1792       health     2.407364         2.407364\n"
     ]
    },
    {
     "data": {
      "image/png": "[encoded data removed]",
      "text/plain": [
       "<Figure size 1200x1000 with 2 Axes>"
      ]
     },
     "metadata": {},
     "output_type": "display_data"
    }
   ],
   "source": [
    "# Get the feature names from the TF-IDF vectorizer\n",
    "feature_names = best_model.named_steps['tfidf'].get_feature_names_out()\n",
    "\n",
    "# Get the coefficients from the logistic regression model\n",
    "coefficients = best_model.named_steps['clf'].coef_[0]\n",
    "\n",
    "# Create a DataFrame to store the feature names and their coefficients\n",
    "feature_importance = pd.DataFrame({'feature': feature_names, 'coefficient': coefficients})\n",
    "\n",
    "# Sort the features by their absolute coefficient values (importance)\n",
    "feature_importance['abs_coefficient'] = feature_importance['coefficient'].abs()\n",
    "feature_importance = feature_importance.sort_values('abs_coefficient', ascending=False)\n",
    "\n",
    "# Display the top 20 most important features\n",
    "print(\"Top 20 most important features:\")\n",
    "print(feature_importance.head(20))\n",
    "\n",
    "# Visualize the top 15 features for each class\n",
    "plt.figure(figsize=(12, 10))\n",
    "\n",
    "# Top features for class 0 (Sports)\n",
    "plt.subplot(2, 1, 1)\n",
    "top_class_0 = feature_importance[feature_importance['coefficient'] < 0].head(15)\n",
    "sns.barplot(x='coefficient', y='feature', data=top_class_0)\n",
    "plt.title('Top 15 Features for Sports Category (Class 0)')\n",
    "plt.xlabel('Coefficient (Negative = Sports)')\n",
    "\n",
    "# Top features for class 1 (Medical)\n",
    "plt.subplot(2, 1, 2)\n",
    "top_class_1 = feature_importance[feature_importance['coefficient'] > 0].head(15)\n",
    "sns.barplot(x='coefficient', y='feature', data=top_class_1)\n",
    "plt.title('Top 15 Features for Medical Category (Class 1)')\n",
    "plt.xlabel('Coefficient (Positive = Medical)')\n",
    "\n",
    "plt.tight_layout()\n",
    "plt.show()"
   ]
  },
  {
   "cell_type": "markdown",
   "metadata": {
    "id": "evaluation_section"
   },
   "source": [
    "## 7. Model Evaluation\n",
    "\n",
    "Evaluate the trained model on the test dataset."
   ]
  },
  {
   "cell_type": "code",
   "execution_count": 16,
   "metadata": {
    "id": "evaluate_model"
   },
   "outputs": [
    {
     "name": "stdout",
     "output_type": "stream",
     "text": [
      "Evaluating model on test dataset...\n",
      "Test accuracy: 0.9791\n",
      "Predicted classes shape: (239,)\n",
      "True labels shape: (239,)\n"
     ]
    }
   ],
   "source": [
    "# Evaluate the model on the test dataset\n",
    "print(\"Evaluating model on test dataset...\")\n",
    "\n",
    "# Make predictions on the test set\n",
    "y_pred = best_model.predict(X_test)\n",
    "\n",
    "# Calculate accuracy\n",
    "accuracy = accuracy_score(y_test, y_pred)\n",
    "print(f\"Test accuracy: {accuracy:.4f}\")\n",
    "\n",
    "# Get prediction probabilities\n",
    "y_pred_proba = best_model.predict_proba(X_test)\n",
    "\n",
    "print(f\"Predicted classes shape: {y_pred.shape}\")\n",
    "print(f\"True labels shape: {y_test.shape}\")"
   ]
  },
  {
   "cell_type": "markdown",
   "metadata": {
    "id": "metrics_section"
   },
   "source": [
    "### 7.1 Classification Metrics"
   ]
  },
  {
   "cell_type": "code",
   "execution_count": 17,
   "metadata": {
    "id": "classification_metrics"
   },
   "outputs": [
    {
     "name": "stdout",
     "output_type": "stream",
     "text": [
      "Classification Report:\n",
      "              precision    recall  f1-score   support\n",
      "\n",
      "      Sports       0.98      0.98      0.98       122\n",
      "     Medical       0.97      0.98      0.98       117\n",
      "\n",
      "    accuracy                           0.98       239\n",
      "   macro avg       0.98      0.98      0.98       239\n",
      "weighted avg       0.98      0.98      0.98       239\n",
      "\n",
      "Accuracy: 0.9791\n"
     ]
    }
   ],
   "source": [
    "# Calculate and print classification metrics\n",
    "print(\"Classification Report:\")\n",
    "print(classification_report(y_test, y_pred, target_names=['Sports', 'Medical']))\n",
    "\n",
    "# Calculate accuracy again (for confirmation)\n",
    "acc = accuracy_score(y_test, y_pred)\n",
    "print(f\"Accuracy: {acc:.4f}\")"
   ]
  },
  {
   "cell_type": "code",
   "execution_count": 18,
   "metadata": {
    "id": "confusion_matrix"
   },
   "outputs": [
    {
     "data": {
      "image/png": "[encoded data removed]",
      "text/plain": [
       "<Figure size 800x600 with 2 Axes>"
      ]
     },
     "metadata": {},
     "output_type": "display_data"
    },
    {
     "name": "stdout",
     "output_type": "stream",
     "text": [
      "Precision: 0.9746\n",
      "Recall: 0.9829\n",
      "F1 Score: 0.9787\n",
      "Specificity: 0.9754\n"
     ]
    }
   ],
   "source": [
    "# Calculate and visualize the confusion matrix\n",
    "cm = confusion_matrix(y_test, y_pred)\n",
    "\n",
    "plt.figure(figsize=(8, 6))\n",
    "sns.heatmap(cm, annot=True, fmt='d', cmap='Blues', \n",
    "            xticklabels=['Sports', 'Medical'],\n",
    "            yticklabels=['Sports', 'Medical'])\n",
    "plt.title('Confusion Matrix')\n",
    "plt.xlabel('Predicted Label')\n",
    "plt.ylabel('True Label')\n",
    "plt.show()\n",
    "\n",
    "# Calculate some additional metrics from the confusion matrix\n",
    "tn, fp, fn, tp = cm.ravel()\n",
    "precision = tp / (tp + fp) if (tp + fp) > 0 else 0\n",
    "recall = tp / (tp + fn) if (tp + fn) > 0 else 0\n",
    "f1 = 2 * precision * recall / (precision + recall) if (precision + recall) > 0 else 0\n",
    "specificity = tn / (tn + fp) if (tn + fp) > 0 else 0\n",
    "\n",
    "print(f\"Precision: {precision:.4f}\")\n",
    "print(f\"Recall: {recall:.4f}\")\n",
    "print(f\"F1 Score: {f1:.4f}\")\n",
    "print(f\"Specificity: {specificity:.4f}\")"
   ]
  },
  {
   "cell_type": "markdown",
   "metadata": {
    "id": "prediction_examples_section"
   },
   "source": [
    "## 8. Testing with Examples\n",
    "\n",
    "Test the model on some example sentences."
   ]
  },
  {
   "cell_type": "code",
   "execution_count": 19,
   "metadata": {
    "id": "prediction_function"
   },
   "outputs": [],
   "source": [
    "# Function to make predictions on new text\n",
    "def predict_category(text):\n",
    "    # Predict the class probability\n",
    "    probs = best_model.predict_proba([text])[0]\n",
    "    \n",
    "    # Get the predicted class\n",
    "    predicted_class = best_model.predict([text])[0]\n",
    "    \n",
    "    # Get the confidence score\n",
    "    confidence = probs[predicted_class]\n",
    "    \n",
    "    return {\n",
    "        'text': text,\n",
    "        'predicted_class': 'Medical' if predicted_class == 1 else 'Sports',\n",
    "        'confidence': confidence,\n",
    "        'sports_prob': probs[0],\n",
    "        'medical_prob': probs[1]\n",
    "    }"
   ]
  },
  {
   "cell_type": "code",
   "execution_count": 20,
   "metadata": {
    "id": "test_examples"
   },
   "outputs": [
    {
     "name": "stdout",
     "output_type": "stream",
     "text": [
      "Text: The baseball game was exciting with a final score of 5-4.\n",
      "Predicted category: Sports (confidence: 0.9567)\n",
      "Probabilities - Sports: 0.9567, Medical: 0.0433\n",
      "----------------------------------------------------------------------------------------------------\n",
      "Text: The patient was diagnosed with a rare form of cancer after several tests.\n",
      "Predicted category: Medical (confidence: 0.9494)\n",
      "Probabilities - Sports: 0.0506, Medical: 0.9494\n",
      "----------------------------------------------------------------------------------------------------\n",
      "Text: The quarterback threw for 300 yards and 3 touchdowns in the championship game.\n",
      "Predicted category: Sports (confidence: 0.8291)\n",
      "Probabilities - Sports: 0.8291, Medical: 0.1709\n",
      "----------------------------------------------------------------------------------------------------\n",
      "Text: The nurse administered the medication as prescribed by the doctor.\n",
      "Predicted category: Medical (confidence: 0.8846)\n",
      "Probabilities - Sports: 0.1154, Medical: 0.8846\n",
      "----------------------------------------------------------------------------------------------------\n",
      "Text: The team practiced their plays before the big tournament this weekend.\n",
      "Predicted category: Sports (confidence: 0.8669)\n",
      "Probabilities - Sports: 0.8669, Medical: 0.1331\n",
      "----------------------------------------------------------------------------------------------------\n",
      "Text: The hospital implemented new protocols for handling infectious diseases.\n",
      "Predicted category: Medical (confidence: 0.8087)\n",
      "Probabilities - Sports: 0.1913, Medical: 0.8087\n",
      "----------------------------------------------------------------------------------------------------\n"
     ]
    }
   ],
   "source": [
    "# Test texts\n",
    "test_texts = [\n",
    "    \"The baseball game was exciting with a final score of 5-4.\",\n",
    "    \"The patient was diagnosed with a rare form of cancer after several tests.\",\n",
    "    \"The quarterback threw for 300 yards and 3 touchdowns in the championship game.\",\n",
    "    \"The nurse administered the medication as prescribed by the doctor.\",\n",
    "    \"The team practiced their plays before the big tournament this weekend.\",\n",
    "    \"The hospital implemented new protocols for handling infectious diseases.\"\n",
    "]\n",
    "\n",
    "# Make predictions on the test texts\n",
    "for text in test_texts:\n",
    "    result = predict_category(text)\n",
    "    print(f\"Text: {result['text']}\")\n",
    "    print(f\"Predicted category: {result['predicted_class']} (confidence: {result['confidence']:.4f})\")\n",
    "    print(f\"Probabilities - Sports: {result['sports_prob']:.4f}, Medical: {result['medical_prob']:.4f}\")\n",
    "    print(\"-\" * 100)"
   ]
  },
  {
   "cell_type": "markdown",
   "metadata": {
    "id": "error_analysis_section"
   },
   "source": [
    "## 9. Error Analysis\n",
    "\n",
    "Analyze some of the misclassified examples to understand where the model is making mistakes."
   ]
  },
  {
   "cell_type": "code",
   "execution_count": 21,
   "metadata": {
    "id": "error_analysis"
   },
   "outputs": [
    {
     "name": "stdout",
     "output_type": "stream",
     "text": [
      "Number of misclassified examples: 5\n",
      "\n",
      "Sample of misclassified examples:\n",
      "1. Text (truncated): From: atchison@cis.ohio-state.edu (mark edward atchison)\n",
      "Subject: Re: Cleveland tragedy\n",
      "Organization: The Ohio State University Dept. of Computer and Info. Science\n",
      "Lines: 12\n",
      "NNTP-Posting-Host: cowardl...\n",
      "   True label: Sports\n",
      "   Predicted label: Medical\n",
      "   Prediction probabilities - Sports: 0.4415, Medical: 0.5585\n",
      "--------------------------------------------------------------------------------\n",
      "2. Text (truncated): From: ffujita@s.psych.uiuc.edu (Frank Fujita)\n",
      "Subject: Re: \"Choleric\" and The Great NT/NF Semantic War.\n",
      "Organization: University of Illinois at Urbana\n",
      "Lines: 6\n",
      "\n",
      "Also remember that most people map the\n",
      "...\n",
      "   True label: Medical\n",
      "   Predicted label: Sports\n",
      "   Prediction probabilities - Sports: 0.5915, Medical: 0.4085\n",
      "--------------------------------------------------------------------------------\n",
      "3. Text (truncated): From: G.R.Price@cm.cf.ac.uk (and thats a fact)\n",
      "Subject: Sax\n",
      "Organization: University of Wales College of Cardiff, Cardiff, WALES, UK.\n",
      "Lines: 5\n",
      "\n",
      "Any more news on Steve's status since he lost the starti...\n",
      "   True label: Sports\n",
      "   Predicted label: Medical\n",
      "   Prediction probabilities - Sports: 0.2490, Medical: 0.7510\n",
      "--------------------------------------------------------------------------------\n",
      "4. Text (truncated): From: random@access.digex.com (Random)\n",
      "Subject: Scott Erickson\n",
      "Organization: Express Access Online Communications, Greenbelt, MD USA\n",
      "Lines: 3\n",
      "Distribution: usa\n",
      "NNTP-Posting-Host: access.digex.net\n",
      "\n",
      "Doe...\n",
      "   True label: Sports\n",
      "   Predicted label: Medical\n",
      "   Prediction probabilities - Sports: 0.3187, Medical: 0.6813\n",
      "--------------------------------------------------------------------------------\n",
      "5. Text (truncated): From: billc@col.hp.com (Bill Claussen)\n",
      "Subject: Re: Should I be angry at this doctor?\n",
      "Organization: HP Colorado Springs Division\n",
      "Lines: 5\n",
      "Distribution: na\n",
      "NNTP-Posting-Host: hpcspe17.col.hp.com\n",
      "\n",
      "\n",
      "Repo...\n",
      "   True label: Medical\n",
      "   Predicted label: Sports\n",
      "   Prediction probabilities - Sports: 0.7095, Medical: 0.2905\n",
      "--------------------------------------------------------------------------------\n"
     ]
    }
   ],
   "source": [
    "# Find misclassified examples\n",
    "misclassified_indices = np.where(y_pred != y_test)[0]\n",
    "print(f\"Number of misclassified examples: {len(misclassified_indices)}\")\n",
    "\n",
    "# Get a sample of misclassified examples (up to 10)\n",
    "sample_size = min(10, len(misclassified_indices))\n",
    "if sample_size > 0:\n",
    "    sample_indices = np.random.choice(misclassified_indices, sample_size, replace=False)\n",
    "    \n",
    "    print(\"\\nSample of misclassified examples:\")\n",
    "    for i, idx in enumerate(sample_indices):\n",
    "        text = X_test.iloc[idx]\n",
    "        true_label = y_test.iloc[idx]\n",
    "        pred_label = y_pred[idx]\n",
    "        \n",
    "        # Get prediction probabilities\n",
    "        probs = best_model.predict_proba([text])[0]\n",
    "        \n",
    "        print(f\"{i+1}. Text (truncated): {text[:200]}...\")\n",
    "        print(f\"   True label: {'Medical' if true_label == 1 else 'Sports'}\")\n",
    "        print(f\"   Predicted label: {'Medical' if pred_label == 1 else 'Sports'}\")\n",
    "        print(f\"   Prediction probabilities - Sports: {probs[0]:.4f}, Medical: {probs[1]:.4f}\")\n",
    "        print(\"-\" * 80)\n",
    "else:\n",
    "    print(\"No misclassified examples found!\")"
   ]
  },
  {
   "cell_type": "markdown",
   "metadata": {
    "id": "conclusion_section"
   },
   "source": [
    "## 10. Conclusion\n",
    "\n",
    "In this notebook, we have:\n",
    "\n",
    "1. Loaded and explored the Stanford SST-2 dataset\n",
    "2. Preprocessed and tokenized the text data\n",
    "3. Loaded and configured the DistilBERT model for sequence classification\n",
    "4. Trained the model on the SST-2 dataset\n",
    "5. Evaluated the model's performance with various metrics\n",
    "6. Tested the model on some example sentences\n",
    "7. Conducted an error analysis to understand model limitations\n",
    "\n",
    "DistilBERT provides a good balance between performance and efficiency, making it suitable for sentiment analysis tasks while requiring less computational resources than the full BERT model."
   ]
  },
  {
   "cell_type": "markdown",
   "metadata": {
    "id": "future_work_section"
   },
   "source": [
    "## 11. Potential Improvements\n",
    "\n",
    "Here are some potential improvements for future work:\n",
    "\n",
    "1. **Hyperparameter Tuning**: Experiment with different learning rates, batch sizes, and other hyperparameters\n",
    "2. **Data Augmentation**: Apply techniques like back-translation or synonym replacement to increase dataset size\n",
    "3. **Model Comparison**: Compare DistilBERT with other models like BERT, RoBERTa, or XLNet\n",
    "4. **Fine-tuning Strategies**: Experiment with different fine-tuning strategies like gradual unfreezing\n",
    "5. **Ensemble Methods**: Combine predictions from multiple models to improve performance\n",
    "6. **Explainability**: Implement techniques like LIME or SHAP to explain model predictions"
   ]
  }
 ],
 "metadata": {
  "accelerator": "GPU",
  "kernelspec": {
   "display_name": "Python 3 (ipykernel)",
   "language": "python",
   "name": "python3"
  },
  "language_info": {
   "codemirror_mode": {
    "name": "ipython",
    "version": 3
   },
   "file_extension": ".py",
   "mimetype": "text/x-python",
   "name": "python",
   "nbconvert_exporter": "python",
   "pygments_lexer": "ipython3",
   "version": "3.11.10"
  }
 },
 "nbformat": 4,
 "nbformat_minor": 4
}
